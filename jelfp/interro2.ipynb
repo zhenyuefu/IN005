{
 "metadata": {
  "language_info": {
   "codemirror_mode": {
    "name": "ipython",
    "version": 3
   },
   "file_extension": ".py",
   "mimetype": "text/x-python",
   "name": "python",
   "nbconvert_exporter": "python",
   "pygments_lexer": "ipython3",
   "version": "3.9.0-final"
  },
  "orig_nbformat": 2,
  "kernelspec": {
   "name": "python3",
   "display_name": "Python 3"
  }
 },
 "nbformat": 4,
 "nbformat_minor": 2,
 "cells": [
  {
   "cell_type": "code",
   "execution_count": 17,
   "metadata": {},
   "outputs": [],
   "source": [
    "import handcalcs.render\n",
    "from handcalcs.decorator import handcalc"
   ]
  },
  {
   "cell_type": "code",
   "execution_count": 35,
   "metadata": {},
   "outputs": [
    {
     "output_type": "display_data",
     "data": {
      "text/plain": "<IPython.core.display.Latex object>",
      "text/latex": "\\[\n\\begin{aligned}\nu &= 2.0 \\; \n\\\\[10pt]\nu &= 1 + \\frac{ 1 }{ u }  = 1 + \\frac{ 1 }{ 2.0 } &= 2.0  \n\\end{aligned}\n\\]"
     },
     "metadata": {}
    }
   ],
   "source": [
    "@handcalc(left=\"\",right=\"\",jupyter_display=True)\n",
    "def u(n):\n",
    "    u = 1\n",
    "    u = 1 + 1 / u\n",
    "u(1)"
   ]
  },
  {
   "cell_type": "code",
   "execution_count": 43,
   "metadata": {},
   "outputs": [
    {
     "output_type": "stream",
     "name": "stdout",
     "text": [
      "\\[\n\\begin{aligned}\nu_{0} &= 1 \\; \n\\\\[10pt]\nu_{1} &= 1 + \\frac{ 1 }{ u_{0} }  = 1 + \\frac{ 1 }{ 1 } &= 2.0  \n\\\\[10pt]\nu_{2} &= 1 + \\frac{ 1 }{ u_{1} }  = 1 + \\frac{ 1 }{ 2.0 } &= 1.5  \n\\end{aligned}\n\\]\n"
     ]
    }
   ],
   "source": [
    "%%tex\n",
    "u_0 = 1\n",
    "u_1 = 1+1/u_0\n",
    "u_2 = 1+1/u_1"
   ]
  },
  {
   "cell_type": "code",
   "execution_count": null,
   "metadata": {},
   "outputs": [],
   "source": []
  }
 ]
}